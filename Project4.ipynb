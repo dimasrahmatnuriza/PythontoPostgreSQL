{
 "cells": [
  {
   "cell_type": "code",
   "execution_count": 1,
   "id": "3efc5618-6645-4d90-b767-e23de2d057c4",
   "metadata": {},
   "outputs": [],
   "source": [
    "import psycopg2"
   ]
  },
  {
   "cell_type": "code",
   "execution_count": 2,
   "id": "8a1083ae-b2d6-4325-93a6-ad631e1e3da1",
   "metadata": {},
   "outputs": [],
   "source": [
    "connection = psycopg2.connect(\"user=postgres\", password=\"29qwertyus\",\n",
    "                              host=\"127.0.0.1\", port=\"5432\", database=\"JAP-Ecomerce\")\n",
    "cur = connection.cursor()"
   ]
  },
  {
   "cell_type": "code",
   "execution_count": 3,
   "id": "b5223043-a877-4481-971f-ff1bd564eed6",
   "metadata": {},
   "outputs": [
    {
     "name": "stdout",
     "output_type": "stream",
     "text": [
      "You are connected to -  ('PostgreSQL 15.2, compiled by Visual C++ build 1914, 64-bit',)\n"
     ]
    }
   ],
   "source": [
    "cur.execute(\"SELECT version();\")\n",
    "record = cur.fetchone()\n",
    "print(\"You are connected to - \", record)"
   ]
  },
  {
   "cell_type": "code",
   "execution_count": 4,
   "id": "0157c6ea-7ccc-4581-963c-5b32fbf8f47e",
   "metadata": {},
   "outputs": [
    {
     "name": "stdout",
     "output_type": "stream",
     "text": [
      "('customers_dataset',)\n",
      "('geolocation_dataset',)\n",
      "('order_payments_dataset',)\n",
      "('order_review_dataset',)\n",
      "('order_items_dataset',)\n",
      "('order_dataset',)\n",
      "('revenue',)\n",
      "('canceled_order',)\n",
      "('top_product',)\n",
      "('most_canceled_product',)\n",
      "('product_dataset',)\n",
      "('seller_dataset',)\n"
     ]
    }
   ],
   "source": [
    "cur.execute(\"\"\"SELECT table_name FROM information_schema.tables WHERE table_schema = 'public'\"\"\")\n",
    "for table in cur.fetchall():\n",
    "    print(table)"
   ]
  },
  {
   "cell_type": "code",
   "execution_count": 5,
   "id": "b257f67c-a70c-4d61-8657-2ac18540a9ab",
   "metadata": {},
   "outputs": [],
   "source": [
    "cur = connection.cursor()\n",
    "cur.execute(\"SELECT payment_type, SUM(CASE WHEN year = 2016 THEN total ELSE 0 END) AS \\\"2016\\\", SUM(CASE WHEN year = 2017 THEN total ELSE 0 END) AS \\\"2017\\\", SUM(CASE WHEN year = 2018 THEN total ELSE 0 END) AS \\\"2018\\\", SUM(total) AS sum_payment_type_usage FROM (SELECT date_part('year', order_purchase_timestamp) AS year, payment_type, COUNT(payment_type) AS total FROM order_dataset AS od JOIN order_payments_dataset AS opd ON od.order_id = opd.order_id GROUP BY 1,2) AS tmp GROUP BY 1 ORDER BY 4 DESC\")\n",
    "\n",
    "hasil = cur.fetchall()\n",
    "\n",
    "# Mendapatkan daftar nama kolom dari objek kursor\n",
    "kolom = [desc[0] for desc in cur.description]"
   ]
  },
  {
   "cell_type": "code",
   "execution_count": 6,
   "id": "8dad5ef9-259b-42e7-a7cc-2a9b16240da1",
   "metadata": {},
   "outputs": [],
   "source": [
    "import pandas as pd\n",
    "import matplotlib.pyplot as plt\n",
    "import seaborn as sns\n",
    "import numpy as np"
   ]
  },
  {
   "cell_type": "code",
   "execution_count": null,
   "id": "85f474b0-0389-456e-a1ba-f8db59707550",
   "metadata": {},
   "outputs": [],
   "source": []
  }
 ],
 "metadata": {
  "kernelspec": {
   "display_name": "Python 3 (ipykernel)",
   "language": "python",
   "name": "python3"
  },
  "language_info": {
   "codemirror_mode": {
    "name": "ipython",
    "version": 3
   },
   "file_extension": ".py",
   "mimetype": "text/x-python",
   "name": "python",
   "nbconvert_exporter": "python",
   "pygments_lexer": "ipython3",
   "version": "3.10.9"
  }
 },
 "nbformat": 4,
 "nbformat_minor": 5
}
