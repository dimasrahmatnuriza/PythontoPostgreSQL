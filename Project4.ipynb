{
 "cells": [
  {
   "cell_type": "code",
   "execution_count": 1,
   "id": "3efc5618-6645-4d90-b767-e23de2d057c4",
   "metadata": {},
   "outputs": [],
   "source": [
    "import psycopg2"
   ]
  },
  {
   "cell_type": "code",
   "execution_count": 2,
   "id": "8a1083ae-b2d6-4325-93a6-ad631e1e3da1",
   "metadata": {},
   "outputs": [],
   "source": [
    "connection = psycopg2.connect(\"user=postgres\", password=\"29qwertyus\",\n",
    "                              host=\"127.0.0.1\", port=\"5432\", database=\"JAP-Ecomerce\")\n",
    "cur = connection.cursor()"
   ]
  },
  {
   "cell_type": "code",
   "execution_count": 3,
   "id": "b5223043-a877-4481-971f-ff1bd564eed6",
   "metadata": {},
   "outputs": [
    {
     "name": "stdout",
     "output_type": "stream",
     "text": [
      "You are connected to -  ('PostgreSQL 15.2, compiled by Visual C++ build 1914, 64-bit',)\n"
     ]
    }
   ],
   "source": [
    "cur.execute(\"SELECT version();\")\n",
    "record = cur.fetchone()\n",
    "print(\"You are connected to - \", record)"
   ]
  },
  {
   "cell_type": "code",
   "execution_count": 4,
   "id": "0157c6ea-7ccc-4581-963c-5b32fbf8f47e",
   "metadata": {},
   "outputs": [
    {
     "name": "stdout",
     "output_type": "stream",
     "text": [
      "('customers_dataset',)\n",
      "('geolocation_dataset',)\n",
      "('order_payments_dataset',)\n",
      "('order_review_dataset',)\n",
      "('order_items_dataset',)\n",
      "('order_dataset',)\n",
      "('revenue',)\n",
      "('canceled_order',)\n",
      "('top_product',)\n",
      "('most_canceled_product',)\n",
      "('product_dataset',)\n",
      "('seller_dataset',)\n"
     ]
    }
   ],
   "source": [
    "cur.execute(\"\"\"SELECT table_name FROM information_schema.tables WHERE table_schema = 'public'\"\"\")\n",
    "for table in cur.fetchall():\n",
    "    print(table)"
   ]
  },
  {
   "cell_type": "code",
   "execution_count": 5,
   "id": "b257f67c-a70c-4d61-8657-2ac18540a9ab",
   "metadata": {},
   "outputs": [],
   "source": [
    "cur = connection.cursor()\n",
    "cur.execute(\"SELECT payment_type, SUM(CASE WHEN year = 2016 THEN total ELSE 0 END) AS \\\"2016\\\", SUM(CASE WHEN year = 2017 THEN total ELSE 0 END) AS \\\"2017\\\", SUM(CASE WHEN year = 2018 THEN total ELSE 0 END) AS \\\"2018\\\", SUM(total) AS sum_payment_type_usage FROM (SELECT date_part('year', order_purchase_timestamp) AS year, payment_type, COUNT(payment_type) AS total FROM order_dataset AS od JOIN order_payments_dataset AS opd ON od.order_id = opd.order_id GROUP BY 1,2) AS tmp GROUP BY 1 ORDER BY 4 DESC\")\n",
    "\n",
    "hasil = cur.fetchall()\n",
    "\n",
    "# Mendapatkan daftar nama kolom dari objek kursor\n",
    "kolom = [desc[0] for desc in cur.description]"
   ]
  },
  {
   "cell_type": "code",
   "execution_count": 6,
   "id": "8dad5ef9-259b-42e7-a7cc-2a9b16240da1",
   "metadata": {},
   "outputs": [],
   "source": [
    "import pandas as pd\n",
    "import matplotlib.pyplot as plt\n",
    "import seaborn as sns\n",
    "import numpy as np"
   ]
  },
  {
   "cell_type": "code",
   "execution_count": 7,
   "id": "85f474b0-0389-456e-a1ba-f8db59707550",
   "metadata": {},
   "outputs": [
    {
     "data": {
      "text/html": [
       "<div>\n",
       "<style scoped>\n",
       "    .dataframe tbody tr th:only-of-type {\n",
       "        vertical-align: middle;\n",
       "    }\n",
       "\n",
       "    .dataframe tbody tr th {\n",
       "        vertical-align: top;\n",
       "    }\n",
       "\n",
       "    .dataframe thead th {\n",
       "        text-align: right;\n",
       "    }\n",
       "</style>\n",
       "<table border=\"1\" class=\"dataframe\">\n",
       "  <thead>\n",
       "    <tr style=\"text-align: right;\">\n",
       "      <th></th>\n",
       "      <th>payment_type</th>\n",
       "      <th>2016</th>\n",
       "      <th>2017</th>\n",
       "      <th>2018</th>\n",
       "      <th>sum_payment_type_usage</th>\n",
       "    </tr>\n",
       "  </thead>\n",
       "  <tbody>\n",
       "    <tr>\n",
       "      <th>0</th>\n",
       "      <td>credit_card</td>\n",
       "      <td>258</td>\n",
       "      <td>34568</td>\n",
       "      <td>41969</td>\n",
       "      <td>76795</td>\n",
       "    </tr>\n",
       "    <tr>\n",
       "      <th>1</th>\n",
       "      <td>boleto</td>\n",
       "      <td>63</td>\n",
       "      <td>9508</td>\n",
       "      <td>10213</td>\n",
       "      <td>19784</td>\n",
       "    </tr>\n",
       "    <tr>\n",
       "      <th>2</th>\n",
       "      <td>voucher</td>\n",
       "      <td>23</td>\n",
       "      <td>3027</td>\n",
       "      <td>2725</td>\n",
       "      <td>5775</td>\n",
       "    </tr>\n",
       "    <tr>\n",
       "      <th>3</th>\n",
       "      <td>debit_card</td>\n",
       "      <td>2</td>\n",
       "      <td>422</td>\n",
       "      <td>1105</td>\n",
       "      <td>1529</td>\n",
       "    </tr>\n",
       "    <tr>\n",
       "      <th>4</th>\n",
       "      <td>not_defined</td>\n",
       "      <td>0</td>\n",
       "      <td>0</td>\n",
       "      <td>3</td>\n",
       "      <td>3</td>\n",
       "    </tr>\n",
       "  </tbody>\n",
       "</table>\n",
       "</div>"
      ],
      "text/plain": [
       "  payment_type 2016   2017   2018 sum_payment_type_usage\n",
       "0  credit_card  258  34568  41969                  76795\n",
       "1       boleto   63   9508  10213                  19784\n",
       "2      voucher   23   3027   2725                   5775\n",
       "3   debit_card    2    422   1105                   1529\n",
       "4  not_defined    0      0      3                      3"
      ]
     },
     "execution_count": 7,
     "metadata": {},
     "output_type": "execute_result"
    }
   ],
   "source": [
    "df = pd.DataFrame(hasil, columns=kolom)\n",
    "df.head()"
   ]
  },
  {
   "cell_type": "code",
   "execution_count": 16,
   "id": "24bd6a17-b1ff-4719-a3c8-02eeb41668d9",
   "metadata": {},
   "outputs": [
    {
     "data": {
      "image/png": "[encoded data removed]",
      "text/plain": [
       "<Figure size 1000x600 with 1 Axes>"
      ]
     },
     "metadata": {},
     "output_type": "display_data"
    }
   ],
   "source": [
    "# Melt dataframe untuk mempermudah plotting\n",
    "df_all = df.melt('payment_type', var_name='year', value_name='usage')\n",
    "\n",
    "sns.set(style=\"whitegrid\")\n",
    "plt.figure(figsize=(10, 6))\n",
    "sns.barplot(x='year', y='usage', hue='payment_type', data=df_all)\n",
    "plt.xlabel('Year')\n",
    "plt.ylabel('Usage')\n",
    "plt.title('Payment Type Usage by Year')\n",
    "plt.show()"
   ]
  },
  {
   "cell_type": "code",
   "execution_count": null,
   "id": "892e0523-0a36-47d3-ab87-f517e99f6595",
   "metadata": {},
   "outputs": [],
   "source": []
  }
 ],
 "metadata": {
  "kernelspec": {
   "display_name": "Python 3 (ipykernel)",
   "language": "python",
   "name": "python3"
  },
  "language_info": {
   "codemirror_mode": {
    "name": "ipython",
    "version": 3
   },
   "file_extension": ".py",
   "mimetype": "text/x-python",
   "name": "python",
   "nbconvert_exporter": "python",
   "pygments_lexer": "ipython3",
   "version": "3.10.9"
  }
 },
 "nbformat": 4,
 "nbformat_minor": 5
}
